{
 "cells": [
  {
   "cell_type": "markdown",
   "metadata": {},
   "source": [
    "# Simple CNN Scaffold",
    "",
    "## \ud83c\udfaf Concept Primer",
    "Build CNN: Conv blocks + FC head \u2192 logits for CrossEntropyLoss.",
    "",
    "**Architecture:** Conv \u2192 ReLU \u2192 MaxPool \u2192 FC \u2192 Output  ",
    "**Expected:** Model ready for training"
   ]
  },
  {
   "cell_type": "markdown",
   "metadata": {},
   "source": [
    "## \ud83d\udccb Objectives",
    "1. Define CNN architecture",
    "2. Verify forward pass",
    "3. Count parameters"
   ]
  },
  {
   "cell_type": "markdown",
   "metadata": {},
   "source": [
    "## \ud83d\udd27 Setup"
   ]
  },
  {
   "cell_type": "code",
   "metadata": {},
   "source": [
    "# TODO 1: Import libraries",
    "# import torch",
    "# import torch.nn as nn"
   ]
  },
  {
   "cell_type": "markdown",
   "metadata": {},
   "source": [
    "## \ud83c\udfd7\ufe0f Build CNN",
    "",
    "### TODO 2: Define SimpleCNN",
    "",
    "**Expected:** Conv layers + FC layers"
   ]
  },
  {
   "cell_type": "code",
   "metadata": {},
   "source": [
    "# TODO 2: Define CNN",
    "# class SimpleCNN(nn.Module):",
    "#     def __init__(self, num_classes=5):",
    "#         super().__init__()",
    "#         # TODO: Conv layers",
    "#         # self.conv1 = nn.Conv2d(3, 32, kernel_size=3, padding=1)",
    "#         # self.relu1 = nn.ReLU()",
    "#         # self.pool1 = nn.MaxPool2d(2)",
    "#         # ... add more layers",
    "#         # self.fc = nn.Linear(X, num_classes)",
    "#     ",
    "#     def forward(self, x):",
    "#         # TODO: Forward pass",
    "#         pass"
   ]
  },
  {
   "cell_type": "markdown",
   "metadata": {},
   "source": [
    "## \u2705 Verify Model",
    "",
    "### TODO 3: Test forward pass",
    "",
    "**Expected:** Output shape [B, num_classes]"
   ]
  },
  {
   "cell_type": "code",
   "metadata": {},
   "source": [
    "# TODO 3: Test",
    "# model = SimpleCNN(num_classes=5)",
    "# x = torch.randn(1, 3, 224, 224)",
    "# output = model(x)",
    "# print(f\"Output shape: {output.shape}\")"
   ]
  },
  {
   "cell_type": "markdown",
   "metadata": {},
   "source": [
    "## \ud83e\udd14 Reflection",
    "1. Model size (parameters)?",
    "2. Architecture choices?"
   ]
  },
  {
   "cell_type": "markdown",
   "metadata": {},
   "source": [
    "**Your reflection:**",
    "",
    "*Write here*"
   ]
  },
  {
   "cell_type": "markdown",
   "metadata": {},
   "source": [
    "## \ud83d\udccc Summary",
    "\u2705 CNN defined  ",
    "\u2705 Ready for training",
    "",
    "**Next:** `04_train_validate_metrics.ipynb`"
   ]
  }
 ],
 "metadata": {
  "kernelspec": {
   "display_name": "Python 3",
   "language": "python",
   "name": "python3"
  },
  "language_info": {
   "name": "python",
   "version": "3.10.0"
  }
 },
 "nbformat": 4,
 "nbformat_minor": 4
}