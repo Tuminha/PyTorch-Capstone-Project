{
 "cells": [
  {
   "cell_type": "markdown",
   "metadata": {},
   "source": [
    "# Training, Validation & Metrics",
    "",
    "## \ud83c\udfaf Concept Primer",
    "Training loop with validation monitoring, save best model.",
    "",
    "**Expected:** Train for 20-30 epochs, save best weights"
   ]
  },
  {
   "cell_type": "markdown",
   "metadata": {},
   "source": [
    "## \ud83d\udccb Objectives",
    "1. Implement training loop",
    "2. Add validation loop",
    "3. Track metrics",
    "4. Save best model"
   ]
  },
  {
   "cell_type": "markdown",
   "metadata": {},
   "source": [
    "## \ud83d\udd27 Setup"
   ]
  },
  {
   "cell_type": "code",
   "metadata": {},
   "source": [
    "# TODO 1: Import libraries",
    "# import torch",
    "# import torch.nn as nn",
    "# import torch.optim as optim"
   ]
  },
  {
   "cell_type": "markdown",
   "metadata": {},
   "source": [
    "## \ud83d\ude80 Training Loop",
    "",
    "### TODO 2: Training code",
    "",
    "**Expected:** CrossEntropyLoss, Adam optimizer"
   ]
  },
  {
   "cell_type": "code",
   "metadata": {},
   "source": [
    "# TODO 2: Training",
    "# model = SimpleCNN(num_classes=5)",
    "# criterion = nn.CrossEntropyLoss()",
    "# optimizer = optim.Adam(model.parameters(), lr=1e-3)",
    "# ",
    "# for epoch in range(30):",
    "#     # Training phase",
    "#     model.train()",
    "#     train_loss = 0",
    "#     for images, labels in train_loader:",
    "#         optimizer.zero_grad()",
    "#         outputs = model(images)",
    "#         loss = criterion(outputs, labels)",
    "#         loss.backward()",
    "#         optimizer.step()",
    "#         train_loss += loss.item()",
    "#     ",
    "#     # Validation phase",
    "#     model.eval()",
    "#     val_loss = 0",
    "#     correct = 0",
    "#     with torch.no_grad():",
    "#         for images, labels in val_loader:",
    "#             outputs = model(images)",
    "#             loss = criterion(outputs, labels)",
    "#             val_loss += loss.item()",
    "#             correct += (outputs.argmax(1) == labels).sum().item()",
    "#     ",
    "#     val_acc = correct / len(val_loader.dataset)",
    "#     print(f\"Epoch {epoch}: Train Loss={train_loss:.4f}, Val Loss={val_loss:.4f}, Val Acc={val_acc:.4f}\")",
    "#     ",
    "#     # Save best model",
    "#     if val_acc > best_acc:",
    "#         best_acc = val_acc",
    "#         best_model_state = model.state_dict().copy()"
   ]
  },
  {
   "cell_type": "markdown",
   "metadata": {},
   "source": [
    "## \ud83e\udd14 Reflection",
    "1. Training converged?",
    "2. Best validation accuracy?"
   ]
  },
  {
   "cell_type": "markdown",
   "metadata": {},
   "source": [
    "**Your reflection:**",
    "",
    "*Write here*"
   ]
  },
  {
   "cell_type": "markdown",
   "metadata": {},
   "source": [
    "## \ud83d\udccc Summary",
    "\u2705 Training complete  ",
    "\u2705 Best model saved",
    "",
    "**Next:** `05_test_eval_and_thresholding.ipynb`"
   ]
  }
 ],
 "metadata": {
  "kernelspec": {
   "display_name": "Python 3",
   "language": "python",
   "name": "python3"
  },
  "language_info": {
   "name": "python",
   "version": "3.10.0"
  }
 },
 "nbformat": 4,
 "nbformat_minor": 4
}