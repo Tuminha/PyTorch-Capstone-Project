{
 "cells": [
  {
   "cell_type": "markdown",
   "metadata": {},
   "source": [
    "# Transforms & DataLoaders",
    "",
    "## \ud83c\udfaf Concept Primer",
    "Image preprocessing: resize, normalize, augment (train), deterministic (val/test).",
    "",
    "**Expected:** DataLoaders with shape [B, 3, H, W]"
   ]
  },
  {
   "cell_type": "markdown",
   "metadata": {},
   "source": [
    "## \ud83d\udccb Objectives",
    "1. Define transforms for train/val/test",
    "2. Create custom Dataset class",
    "3. Setup DataLoaders",
    "4. Verify batch shapes"
   ]
  },
  {
   "cell_type": "markdown",
   "metadata": {},
   "source": [
    "## \ud83d\udd27 Setup"
   ]
  },
  {
   "cell_type": "code",
   "metadata": {},
   "source": [
    "# TODO 1: Import libraries",
    "# import torch",
    "# from torch.utils.data import Dataset, DataLoader",
    "# from torchvision import transforms",
    "# from PIL import Image"
   ]
  },
  {
   "cell_type": "markdown",
   "metadata": {},
   "source": [
    "## \ud83d\udd04 Define Transforms",
    "",
    "### TODO 2: Create transform pipelines",
    "",
    "**Train:** Resize, augment (flip, rotate), normalize  ",
    "**Val/Test:** Resize, normalize only"
   ]
  },
  {
   "cell_type": "code",
   "metadata": {},
   "source": [
    "# TODO 2: Transforms",
    "# train_transform = transforms.Compose([",
    "#     transforms.Resize((224, 224)),",
    "#     transforms.RandomHorizontalFlip(),",
    "#     transforms.ToTensor(),",
    "#     transforms.Normalize(mean=[0.485, 0.456, 0.406], std=[0.229, 0.224, 0.225])",
    "# ])",
    "# ",
    "# val_transform = transforms.Compose([",
    "#     transforms.Resize((224, 224)),",
    "#     transforms.ToTensor(),",
    "#     transforms.Normalize(mean=[0.485, 0.456, 0.406], std=[0.229, 0.224, 0.225])",
    "# ])"
   ]
  },
  {
   "cell_type": "markdown",
   "metadata": {},
   "source": [
    "## \ud83d\udce6 Custom Dataset",
    "",
    "### TODO 3: Create Dataset class",
    "",
    "**Expected:** __getitem__ returns (image, label)"
   ]
  },
  {
   "cell_type": "code",
   "metadata": {},
   "source": [
    "# TODO 3: Dataset class",
    "# class RetinalDataset(Dataset):",
    "#     def __init__(self, df, img_dir, transform=None):",
    "#         self.df = df",
    "#         self.img_dir = img_dir",
    "#         self.transform = transform",
    "#     ",
    "#     def __len__(self):",
    "#         return len(self.df)",
    "#     ",
    "#     def __getitem__(self, idx):",
    "#         # TODO: Load image, apply transform, return label",
    "#         pass"
   ]
  },
  {
   "cell_type": "markdown",
   "metadata": {},
   "source": [
    "## \ud83d\udd04 DataLoaders",
    "",
    "### TODO 4: Create DataLoaders",
    "",
    "**Expected:** Batch size=32, shape [B, 3, 224, 224]"
   ]
  },
  {
   "cell_type": "code",
   "metadata": {},
   "source": [
    "# TODO 4: DataLoaders",
    "# train_dataset = RetinalDataset(train_df, img_dir, train_transform)",
    "# train_loader = DataLoader(train_dataset, batch_size=32, shuffle=True)",
    "# ",
    "# # Verify shape",
    "# for images, labels in train_loader:",
    "#     print(f\"Batch shape: {images.shape}\")",
    "#     break"
   ]
  },
  {
   "cell_type": "markdown",
   "metadata": {},
   "source": [
    "## \ud83e\udd14 Reflection",
    "1. Batch shape correct?",
    "2. Augmentation choices?"
   ]
  },
  {
   "cell_type": "markdown",
   "metadata": {},
   "source": [
    "**Your reflection:**",
    "",
    "*Write here*"
   ]
  },
  {
   "cell_type": "markdown",
   "metadata": {},
   "source": [
    "## \ud83d\udccc Summary",
    "\u2705 Transforms defined  ",
    "\u2705 DataLoaders ready",
    "",
    "**Next:** `03_simple_cnn_scaffold.ipynb`"
   ]
  }
 ],
 "metadata": {
  "kernelspec": {
   "display_name": "Python 3",
   "language": "python",
   "name": "python3"
  },
  "language_info": {
   "name": "python",
   "version": "3.10.0"
  }
 },
 "nbformat": 4,
 "nbformat_minor": 4
}