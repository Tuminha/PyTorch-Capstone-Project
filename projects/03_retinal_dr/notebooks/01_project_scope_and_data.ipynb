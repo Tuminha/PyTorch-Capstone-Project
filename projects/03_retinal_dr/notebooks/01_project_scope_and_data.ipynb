{
 "cells": [
  {
   "cell_type": "markdown",
   "metadata": {},
   "source": [
    "# Project 03: Retinal Diabetic Retinopathy \u2014 Scope & Data",
    "",
    "## \ud83c\udfaf Concept Primer",
    "Multi-class image classification: Classify retinal images by DR severity (0-4).",
    "",
    "**Labels:** 0=No DR, 1=Mild, 2=Moderate, 3=Severe, 4=Proliferative  ",
    "**Success Metric:** Weighted-F1 or Macro-F1  ",
    "**Expected:** Images \u2192 CNN \u2192 Class prediction"
   ]
  },
  {
   "cell_type": "markdown",
   "metadata": {},
   "source": [
    "## \ud83d\udccb Objectives",
    "1. Define problem and class mapping",
    "2. Load retinal image dataset",
    "3. Set success metrics",
    "4. Document ethical considerations"
   ]
  },
  {
   "cell_type": "markdown",
   "metadata": {},
   "source": [
    "## \ud83d\udd27 Setup"
   ]
  },
  {
   "cell_type": "code",
   "metadata": {},
   "source": [
    "# TODO 1: Import libraries",
    "# import pandas as pd",
    "# import numpy as np",
    "# from PIL import Image"
   ]
  },
  {
   "cell_type": "markdown",
   "metadata": {},
   "source": [
    "## \ud83d\udcc2 Load Data",
    "",
    "### TODO 2: Load image paths and labels",
    "",
    "**Location:** `../../data/diabetic_retinopathy_images/`  ",
    "**Expected:** Paths to images and corresponding labels"
   ]
  },
  {
   "cell_type": "code",
   "metadata": {},
   "source": [
    "# TODO 2: Load data",
    "# train_df = pd.read_csv('../../data/diabetic_retinopathy_images/groundtruths/training_labels.csv')",
    "# print(train_df.head())"
   ]
  },
  {
   "cell_type": "markdown",
   "metadata": {},
   "source": [
    "## \ud83c\udfaf Class Mapping",
    "",
    "### TODO 3: Document severity classes",
    "",
    "**Expected:** Mapping from integer to severity level"
   ]
  },
  {
   "cell_type": "markdown",
   "metadata": {},
   "source": [
    "**Class mapping:**",
    "",
    "*Document your classes*"
   ]
  },
  {
   "cell_type": "markdown",
   "metadata": {},
   "source": [
    "## \ud83e\udd14 Reflection",
    "1. Class balance?",
    "2. Ethical concerns with DR screening?",
    "3. Why this metric?"
   ]
  },
  {
   "cell_type": "markdown",
   "metadata": {},
   "source": [
    "**Your reflection:**",
    "",
    "*Write here*"
   ]
  },
  {
   "cell_type": "markdown",
   "metadata": {},
   "source": [
    "## \ud83d\udccc Summary",
    "\u2705 Problem defined  ",
    "\u2705 Dataset loaded  ",
    "\u2705 Metrics chosen",
    "",
    "**Next:** `02_transforms_and_loaders.ipynb`"
   ]
  }
 ],
 "metadata": {
  "kernelspec": {
   "display_name": "Python 3",
   "language": "python",
   "name": "python3"
  },
  "language_info": {
   "name": "python",
   "version": "3.10.0"
  }
 },
 "nbformat": 4,
 "nbformat_minor": 4
}