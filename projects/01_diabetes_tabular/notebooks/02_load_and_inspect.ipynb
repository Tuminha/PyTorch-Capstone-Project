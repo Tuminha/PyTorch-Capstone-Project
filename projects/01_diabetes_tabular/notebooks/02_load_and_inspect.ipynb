{
 "cells": [
  {
   "cell_type": "markdown",
   "metadata": {},
   "source": [
    "# Load and Inspect Data",
    "",
    "## \ud83c\udfaf Concept Primer",
    "",
    "Before building any model, you must **understand your data**. Wrong dtypes cause silent bugs. Missing values leak information. This notebook ensures your data is ready for cleaning.",
    "",
    "### Data Inspection Checklist",
    "- **Schema:** Column names, dtypes, non-null counts",
    "- **Target distribution:** Is it balanced? How many classes?",
    "- **Missing values:** Where are they? How many?",
    "- **Basic stats:** min, max, mean for numeric columns",
    "",
    "**Expected shapes:** You'll load a CSV and inspect rows \u00d7 columns."
   ]
  },
  {
   "cell_type": "markdown",
   "metadata": {},
   "source": [
    "## \ud83d\udccb Objectives",
    "",
    "By the end of this notebook, you will:",
    "1. Load the diabetes dataset from CSV",
    "2. Display schema (.info()) and basic statistics (.describe())",
    "3. Visualize target distribution (diabetes yes/no)",
    "4. Check for missing values and unusual patterns",
    "5. Document initial observations"
   ]
  },
  {
   "cell_type": "markdown",
   "metadata": {},
   "source": [
    "## \u2705 Acceptance Criteria",
    "",
    "You'll know you're done when:",
    "- [ ] DataFrame loaded successfully from CSV",
    "- [ ] Schema printed (dtypes, non-null counts)",
    "- [ ] Target distribution chart created",
    "- [ ] Missing value counts documented",
    "- [ ] Initial issues identified in reflection"
   ]
  },
  {
   "cell_type": "markdown",
   "metadata": {},
   "source": [
    "## \ud83d\udd27 Setup"
   ]
  },
  {
   "cell_type": "code",
   "metadata": {},
   "source": [
    "# TODO 1: Import libraries",
    "# Hint: You'll need pandas, numpy, matplotlib",
    "# import pandas as pd",
    "# import numpy as np",
    "# import matplotlib.pyplot as plt",
    "# import seaborn as sns",
    "# %matplotlib inline"
   ]
  },
  {
   "cell_type": "markdown",
   "metadata": {},
   "source": [
    "## \ud83d\udcc2 Load Data",
    "",
    "### TODO 2: Read the CSV file",
    "",
    "**Expected:** DataFrame with ~250K rows, 22 columns",
    "",
    "**Hints:**",
    "- Use `pd.read_csv()` with the path `../../data/diabetes_BRFSS2015.csv`",
    "- Check the shape: `df.shape`",
    "- Display first 5 rows: `df.head()`"
   ]
  },
  {
   "cell_type": "code",
   "metadata": {},
   "source": [
    "# TODO 2: Load CSV",
    "# df = pd.read_csv('../../data/diabetes_BRFSS2015.csv')",
    "# print(f\"Shape: {df.shape}\")",
    "# df.head()"
   ]
  },
  {
   "cell_type": "markdown",
   "metadata": {},
   "source": [
    "## \ud83d\udcca Inspect Schema",
    "",
    "### TODO 3: Display data types and missing counts",
    "",
    "**Use:** `df.info()` \u2014 shows column names, dtypes, non-null counts",
    "",
    "**Expected:** Mixed dtypes (int64, float64, object for some columns)",
    "",
    "**Watch for:** Strings that look numeric (may need parsing)"
   ]
  },
  {
   "cell_type": "code",
   "metadata": {},
   "source": [
    "# TODO 3: Check schema",
    "# df.info()"
   ]
  },
  {
   "cell_type": "markdown",
   "metadata": {},
   "source": [
    "## \ud83d\udcc8 Basic Statistics",
    "",
    "### TODO 4: Get summary statistics",
    "",
    "**Use:** `df.describe()` \u2014 shows count, mean, std, min, max for numeric columns",
    "",
    "**Questions to answer:**",
    "- Are there any obviously wrong values (e.g., negative BMI)?",
    "- What's the range of each numeric feature?"
   ]
  },
  {
   "cell_type": "code",
   "metadata": {},
   "source": [
    "# TODO 4: Summary statistics",
    "# df.describe()"
   ]
  },
  {
   "cell_type": "markdown",
   "metadata": {},
   "source": [
    "## \ud83c\udfaf Target Distribution",
    "",
    "### TODO 5: Visualize target variable",
    "",
    "**Expected:** `Diabetes_binary` column with values 0 (No) and 1 (Yes)",
    "",
    "**Questions:**",
    "- Is the dataset balanced? (50/50 split)",
    "- Or is it imbalanced? (e.g., 10% positive)",
    "",
    "**Create:** Bar chart showing counts for each class"
   ]
  },
  {
   "cell_type": "code",
   "metadata": {},
   "source": [
    "# TODO 5: Visualize target",
    "# Hint: Use df['Diabetes_binary'].value_counts().plot(kind='bar')",
    "# Label axes and add title",
    "# plt.xlabel('Diabetes Status')",
    "# plt.ylabel('Count')",
    "# plt.title('Distribution of Diabetes Cases')",
    "# plt.show()"
   ]
  },
  {
   "cell_type": "markdown",
   "metadata": {},
   "source": [
    "## \ud83d\udd0d Missing Values",
    "",
    "### TODO 6: Check for missing data",
    "",
    "**Use:** `df.isnull().sum()` \u2014 counts missing values per column",
    "",
    "**Questions:**",
    "- Which columns have missing values?",
    "- How much is missing? (< 1% vs. > 50%)"
   ]
  },
  {
   "cell_type": "code",
   "metadata": {},
   "source": [
    "# TODO 6: Missing values",
    "# missing = df.isnull().sum()",
    "# print(missing[missing > 0])"
   ]
  },
  {
   "cell_type": "markdown",
   "metadata": {},
   "source": [
    "## \ud83e\udd14 Reflection",
    "",
    "Answer these questions:",
    "",
    "1. **Schema issues:** Any columns with wrong dtypes? (e.g., integers stored as strings)",
    "2. **Missing data:** Which columns have missing values? Should we drop or impute?",
    "3. **Class balance:** Is diabetes class balanced or imbalanced? How will this affect training?",
    "4. **Initial concerns:** What stands out as problematic?"
   ]
  },
  {
   "cell_type": "markdown",
   "metadata": {},
   "source": [
    "---",
    "**Your reflection:**",
    "",
    "*Write your answers here*"
   ]
  },
  {
   "cell_type": "markdown",
   "metadata": {},
   "source": [
    "## \ud83d\udccc Summary",
    "",
    "\u2705 **Data loaded:** CSV \u2192 DataFrame  ",
    "\u2705 **Schema inspected:** Dtypes documented  ",
    "\u2705 **Target visualized:** Distribution chart created  ",
    "\u2705 **Missing identified:** Columns with NaN documented  ",
    "\u2705 **Ready for next step:** Clean the data",
    "",
    "**Next notebook:** `03_cleaning.ipynb`"
   ]
  }
 ],
 "metadata": {
  "kernelspec": {
   "display_name": "Python 3",
   "language": "python",
   "name": "python3"
  },
  "language_info": {
   "name": "python",
   "version": "3.10.0"
  }
 },
 "nbformat": 4,
 "nbformat_minor": 4
}