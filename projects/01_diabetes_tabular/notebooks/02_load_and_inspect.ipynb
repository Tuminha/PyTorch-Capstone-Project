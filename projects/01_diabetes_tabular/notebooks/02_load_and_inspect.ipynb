{
 "cells": [
  {
   "cell_type": "markdown",
   "metadata": {},
   "source": [
    "# Load and Inspect Data\n",
    "\n",
    "## 🎯 Concept Primer\n",
    "\n",
    "Before building any model, you must **understand your data**. Wrong dtypes cause silent bugs. Missing values leak information. This notebook ensures your data is ready for cleaning.\n",
    "\n",
    "### Data Inspection Checklist\n",
    "- **Schema:** Column names, dtypes, non-null counts\n",
    "- **Target distribution:** Is it balanced? How many classes?\n",
    "- **Missing values:** Where are they? How many?\n",
    "- **Basic stats:** min, max, mean for numeric columns\n",
    "\n",
    "**Expected shapes:** You'll load a CSV and inspect rows × columns."
   ]
  },
  {
   "cell_type": "markdown",
   "metadata": {},
   "source": [
    "## 📋 Objectives\n",
    "\n",
    "By the end of this notebook, you will:\n",
    "1. Load the diabetes dataset from CSV\n",
    "2. Display schema (.info()) and basic statistics (.describe())\n",
    "3. Visualize target distribution (diabetes yes/no)\n",
    "4. Check for missing values and unusual patterns\n",
    "5. Document initial observations"
   ]
  },
  {
   "cell_type": "markdown",
   "metadata": {},
   "source": [
    "## ✅ Acceptance Criteria\n",
    "\n",
    "You'll know you're done when:\n",
    "- [ ] DataFrame loaded successfully from CSV\n",
    "- [ ] Schema printed (dtypes, non-null counts)\n",
    "- [ ] Target distribution chart created\n",
    "- [ ] Missing value counts documented\n",
    "- [ ] Initial issues identified in reflection"
   ]
  },
  {
   "cell_type": "markdown",
   "metadata": {},
   "source": [
    "## 🔧 Setup"
   ]
  },
  {
   "cell_type": "code",
   "execution_count": 1,
   "metadata": {},
   "outputs": [],
   "source": [
    "# TODO 1: Import libraries\n",
    "# Hint: You'll need pandas, numpy, matplotlib\n",
    "import pandas as pd\n",
    "import numpy as np\n",
    "import matplotlib.pyplot as plt\n",
    "import seaborn as sns\n",
    "# %matplotlib inline"
   ]
  },
  {
   "cell_type": "markdown",
   "metadata": {},
   "source": [
    "## 📂 Load Data\n",
    "\n",
    "### TODO 2: Read the CSV file\n",
    "\n",
    "**Expected:** DataFrame with ~250K rows, 22 columns\n",
    "\n",
    "**Hints:**\n",
    "- Use `pd.read_csv()` with the path `../../data/diabetes_BRFSS2015.csv`\n",
    "- Check the shape: `df.shape`\n",
    "- Display first 5 rows: `df.head()`"
   ]
  },
  {
   "cell_type": "code",
   "execution_count": null,
   "metadata": {},
   "outputs": [
    {
     "name": "stdout",
     "output_type": "stream",
     "text": [
      "Shape: (253680, 22)\n"
     ]
    },
    {
     "data": {
      "text/html": [
       "<div>\n",
       "<style scoped>\n",
       "    .dataframe tbody tr th:only-of-type {\n",
       "        vertical-align: middle;\n",
       "    }\n",
       "\n",
       "    .dataframe tbody tr th {\n",
       "        vertical-align: top;\n",
       "    }\n",
       "\n",
       "    .dataframe thead th {\n",
       "        text-align: right;\n",
       "    }\n",
       "</style>\n",
       "<table border=\"1\" class=\"dataframe\">\n",
       "  <thead>\n",
       "    <tr style=\"text-align: right;\">\n",
       "      <th></th>\n",
       "      <th>HighBP</th>\n",
       "      <th>HighChol</th>\n",
       "      <th>CholCheck</th>\n",
       "      <th>BMI</th>\n",
       "      <th>Smoker</th>\n",
       "      <th>Stroke</th>\n",
       "      <th>HeartDiseaseorAttack</th>\n",
       "      <th>PhysActivity</th>\n",
       "      <th>Fruits</th>\n",
       "      <th>Veggies</th>\n",
       "      <th>...</th>\n",
       "      <th>NoDocbcCost</th>\n",
       "      <th>GenHlth</th>\n",
       "      <th>MentHlth</th>\n",
       "      <th>PhysHlth</th>\n",
       "      <th>DiffWalk</th>\n",
       "      <th>Sex</th>\n",
       "      <th>Age</th>\n",
       "      <th>Education</th>\n",
       "      <th>Income</th>\n",
       "      <th>Diabetes</th>\n",
       "    </tr>\n",
       "  </thead>\n",
       "  <tbody>\n",
       "    <tr>\n",
       "      <th>0</th>\n",
       "      <td>Yes</td>\n",
       "      <td>Yes</td>\n",
       "      <td>Yes</td>\n",
       "      <td>40.0</td>\n",
       "      <td>Yes</td>\n",
       "      <td>No</td>\n",
       "      <td>No</td>\n",
       "      <td>No</td>\n",
       "      <td>No</td>\n",
       "      <td>Yes</td>\n",
       "      <td>...</td>\n",
       "      <td>No</td>\n",
       "      <td>5.0</td>\n",
       "      <td>18.0</td>\n",
       "      <td>15.0</td>\n",
       "      <td>Yes</td>\n",
       "      <td>Female</td>\n",
       "      <td>60-64</td>\n",
       "      <td>Grade 12 or GED (High school graduate)</td>\n",
       "      <td>Less than $20,000</td>\n",
       "      <td>No Diabetes</td>\n",
       "    </tr>\n",
       "    <tr>\n",
       "      <th>1</th>\n",
       "      <td>No</td>\n",
       "      <td>No</td>\n",
       "      <td>No</td>\n",
       "      <td>25.0</td>\n",
       "      <td>Yes</td>\n",
       "      <td>No</td>\n",
       "      <td>No</td>\n",
       "      <td>Yes</td>\n",
       "      <td>No</td>\n",
       "      <td>No</td>\n",
       "      <td>...</td>\n",
       "      <td>Yes</td>\n",
       "      <td>3.0</td>\n",
       "      <td>0.0</td>\n",
       "      <td>0.0</td>\n",
       "      <td>No</td>\n",
       "      <td>Female</td>\n",
       "      <td>50-54</td>\n",
       "      <td>College 4+ years (College graduate)</td>\n",
       "      <td>Less than $10,000</td>\n",
       "      <td>No Diabetes</td>\n",
       "    </tr>\n",
       "    <tr>\n",
       "      <th>2</th>\n",
       "      <td>Yes</td>\n",
       "      <td>Yes</td>\n",
       "      <td>Yes</td>\n",
       "      <td>28.0</td>\n",
       "      <td>No</td>\n",
       "      <td>No</td>\n",
       "      <td>No</td>\n",
       "      <td>No</td>\n",
       "      <td>Yes</td>\n",
       "      <td>No</td>\n",
       "      <td>...</td>\n",
       "      <td>Yes</td>\n",
       "      <td>5.0</td>\n",
       "      <td>30.0</td>\n",
       "      <td>30.0</td>\n",
       "      <td>Yes</td>\n",
       "      <td>Female</td>\n",
       "      <td>60-64</td>\n",
       "      <td>Grade 12 or GED (High school graduate)</td>\n",
       "      <td>$75,000 or more</td>\n",
       "      <td>No Diabetes</td>\n",
       "    </tr>\n",
       "    <tr>\n",
       "      <th>3</th>\n",
       "      <td>Yes</td>\n",
       "      <td>No</td>\n",
       "      <td>Yes</td>\n",
       "      <td>27.0</td>\n",
       "      <td>No</td>\n",
       "      <td>No</td>\n",
       "      <td>No</td>\n",
       "      <td>Yes</td>\n",
       "      <td>Yes</td>\n",
       "      <td>Yes</td>\n",
       "      <td>...</td>\n",
       "      <td>No</td>\n",
       "      <td>2.0</td>\n",
       "      <td>0.0</td>\n",
       "      <td>0.0</td>\n",
       "      <td>No</td>\n",
       "      <td>Female</td>\n",
       "      <td>70-74</td>\n",
       "      <td>Grades 9-11 (Some high school)</td>\n",
       "      <td>Less than $50,000</td>\n",
       "      <td>No Diabetes</td>\n",
       "    </tr>\n",
       "    <tr>\n",
       "      <th>4</th>\n",
       "      <td>Yes</td>\n",
       "      <td>Yes</td>\n",
       "      <td>Yes</td>\n",
       "      <td>24.0</td>\n",
       "      <td>No</td>\n",
       "      <td>No</td>\n",
       "      <td>No</td>\n",
       "      <td>Yes</td>\n",
       "      <td>Yes</td>\n",
       "      <td>Yes</td>\n",
       "      <td>...</td>\n",
       "      <td>No</td>\n",
       "      <td>2.0</td>\n",
       "      <td>3.0</td>\n",
       "      <td>0.0</td>\n",
       "      <td>No</td>\n",
       "      <td>Female</td>\n",
       "      <td>70-74</td>\n",
       "      <td>College 1-3 years (Some college/technical school)</td>\n",
       "      <td>Less than $25,000</td>\n",
       "      <td>No Diabetes</td>\n",
       "    </tr>\n",
       "  </tbody>\n",
       "</table>\n",
       "<p>5 rows × 22 columns</p>\n",
       "</div>"
      ],
      "text/plain": [
       "  HighBP HighChol CholCheck   BMI Smoker Stroke HeartDiseaseorAttack  \\\n",
       "0    Yes      Yes       Yes  40.0    Yes     No                   No   \n",
       "1     No       No        No  25.0    Yes     No                   No   \n",
       "2    Yes      Yes       Yes  28.0     No     No                   No   \n",
       "3    Yes       No       Yes  27.0     No     No                   No   \n",
       "4    Yes      Yes       Yes  24.0     No     No                   No   \n",
       "\n",
       "  PhysActivity Fruits Veggies  ... NoDocbcCost GenHlth MentHlth  PhysHlth  \\\n",
       "0           No     No     Yes  ...          No     5.0     18.0      15.0   \n",
       "1          Yes     No      No  ...         Yes     3.0      0.0       0.0   \n",
       "2           No    Yes      No  ...         Yes     5.0     30.0      30.0   \n",
       "3          Yes    Yes     Yes  ...          No     2.0      0.0       0.0   \n",
       "4          Yes    Yes     Yes  ...          No     2.0      3.0       0.0   \n",
       "\n",
       "   DiffWalk     Sex    Age                                          Education  \\\n",
       "0       Yes  Female  60-64             Grade 12 or GED (High school graduate)   \n",
       "1        No  Female  50-54                College 4+ years (College graduate)   \n",
       "2       Yes  Female  60-64             Grade 12 or GED (High school graduate)   \n",
       "3        No  Female  70-74                     Grades 9-11 (Some high school)   \n",
       "4        No  Female  70-74  College 1-3 years (Some college/technical school)   \n",
       "\n",
       "              Income     Diabetes  \n",
       "0  Less than $20,000  No Diabetes  \n",
       "1  Less than $10,000  No Diabetes  \n",
       "2    $75,000 or more  No Diabetes  \n",
       "3  Less than $50,000  No Diabetes  \n",
       "4  Less than $25,000  No Diabetes  \n",
       "\n",
       "[5 rows x 22 columns]"
      ]
     },
     "execution_count": 6,
     "metadata": {},
     "output_type": "execute_result"
    }
   ],
   "source": [
    "# TODO 2: Load CSV\n",
    "df = pd.read_csv('../../../datasets/diabetes_BRFSS2015.csv')\n",
    "print(f\"Shape: {df.shape}\")\n",
    "df.head()\n"
   ]
  },
  {
   "cell_type": "markdown",
   "metadata": {},
   "source": [
    "## 📊 Inspect Schema\n",
    "\n",
    "### TODO 3: Display data types and missing counts\n",
    "\n",
    "**Use:** `df.info()` — shows column names, dtypes, non-null counts\n",
    "\n",
    "**Expected:** Mixed dtypes (int64, float64, object for some columns)\n",
    "\n",
    "**Watch for:** Strings that look numeric (may need parsing)"
   ]
  },
  {
   "cell_type": "code",
   "execution_count": 7,
   "metadata": {},
   "outputs": [
    {
     "name": "stdout",
     "output_type": "stream",
     "text": [
      "<class 'pandas.core.frame.DataFrame'>\n",
      "RangeIndex: 253680 entries, 0 to 253679\n",
      "Data columns (total 22 columns):\n",
      " #   Column                Non-Null Count   Dtype  \n",
      "---  ------                --------------   -----  \n",
      " 0   HighBP                253680 non-null  object \n",
      " 1   HighChol              253680 non-null  object \n",
      " 2   CholCheck             253680 non-null  object \n",
      " 3   BMI                   253680 non-null  float64\n",
      " 4   Smoker                253680 non-null  object \n",
      " 5   Stroke                253680 non-null  object \n",
      " 6   HeartDiseaseorAttack  253680 non-null  object \n",
      " 7   PhysActivity          253680 non-null  object \n",
      " 8   Fruits                253680 non-null  object \n",
      " 9   Veggies               253680 non-null  object \n",
      " 10  HvyAlcoholConsump     253680 non-null  object \n",
      " 11  AnyHealthcare         253680 non-null  object \n",
      " 12  NoDocbcCost           253680 non-null  object \n",
      " 13  GenHlth               253680 non-null  float64\n",
      " 14  MentHlth              253680 non-null  float64\n",
      " 15  PhysHlth              253680 non-null  float64\n",
      " 16  DiffWalk              253680 non-null  object \n",
      " 17  Sex                   253680 non-null  object \n",
      " 18  Age                   253680 non-null  object \n",
      " 19  Education             253680 non-null  object \n",
      " 20  Income                253680 non-null  object \n",
      " 21  Diabetes              253680 non-null  object \n",
      "dtypes: float64(4), object(18)\n",
      "memory usage: 42.6+ MB\n"
     ]
    }
   ],
   "source": [
    "# TODO 3: Check schema\n",
    "df.info()"
   ]
  },
  {
   "cell_type": "markdown",
   "metadata": {},
   "source": [
    "## 📈 Basic Statistics\n",
    "\n",
    "### TODO 4: Get summary statistics\n",
    "\n",
    "**Use:** `df.describe()` — shows count, mean, std, min, max for numeric columns\n",
    "\n",
    "**Questions to answer:**\n",
    "- Are there any obviously wrong values (e.g., negative BMI)?\n",
    "- What's the range of each numeric feature?"
   ]
  },
  {
   "cell_type": "code",
   "execution_count": 8,
   "metadata": {},
   "outputs": [
    {
     "data": {
      "text/html": [
       "<div>\n",
       "<style scoped>\n",
       "    .dataframe tbody tr th:only-of-type {\n",
       "        vertical-align: middle;\n",
       "    }\n",
       "\n",
       "    .dataframe tbody tr th {\n",
       "        vertical-align: top;\n",
       "    }\n",
       "\n",
       "    .dataframe thead th {\n",
       "        text-align: right;\n",
       "    }\n",
       "</style>\n",
       "<table border=\"1\" class=\"dataframe\">\n",
       "  <thead>\n",
       "    <tr style=\"text-align: right;\">\n",
       "      <th></th>\n",
       "      <th>BMI</th>\n",
       "      <th>GenHlth</th>\n",
       "      <th>MentHlth</th>\n",
       "      <th>PhysHlth</th>\n",
       "    </tr>\n",
       "  </thead>\n",
       "  <tbody>\n",
       "    <tr>\n",
       "      <th>count</th>\n",
       "      <td>253680.000000</td>\n",
       "      <td>253680.000000</td>\n",
       "      <td>253680.000000</td>\n",
       "      <td>253680.000000</td>\n",
       "    </tr>\n",
       "    <tr>\n",
       "      <th>mean</th>\n",
       "      <td>28.382364</td>\n",
       "      <td>2.511392</td>\n",
       "      <td>3.184772</td>\n",
       "      <td>4.242081</td>\n",
       "    </tr>\n",
       "    <tr>\n",
       "      <th>std</th>\n",
       "      <td>6.608694</td>\n",
       "      <td>1.068477</td>\n",
       "      <td>7.412847</td>\n",
       "      <td>8.717951</td>\n",
       "    </tr>\n",
       "    <tr>\n",
       "      <th>min</th>\n",
       "      <td>12.000000</td>\n",
       "      <td>1.000000</td>\n",
       "      <td>0.000000</td>\n",
       "      <td>0.000000</td>\n",
       "    </tr>\n",
       "    <tr>\n",
       "      <th>25%</th>\n",
       "      <td>24.000000</td>\n",
       "      <td>2.000000</td>\n",
       "      <td>0.000000</td>\n",
       "      <td>0.000000</td>\n",
       "    </tr>\n",
       "    <tr>\n",
       "      <th>50%</th>\n",
       "      <td>27.000000</td>\n",
       "      <td>2.000000</td>\n",
       "      <td>0.000000</td>\n",
       "      <td>0.000000</td>\n",
       "    </tr>\n",
       "    <tr>\n",
       "      <th>75%</th>\n",
       "      <td>31.000000</td>\n",
       "      <td>3.000000</td>\n",
       "      <td>2.000000</td>\n",
       "      <td>3.000000</td>\n",
       "    </tr>\n",
       "    <tr>\n",
       "      <th>max</th>\n",
       "      <td>98.000000</td>\n",
       "      <td>5.000000</td>\n",
       "      <td>30.000000</td>\n",
       "      <td>30.000000</td>\n",
       "    </tr>\n",
       "  </tbody>\n",
       "</table>\n",
       "</div>"
      ],
      "text/plain": [
       "                 BMI        GenHlth       MentHlth       PhysHlth\n",
       "count  253680.000000  253680.000000  253680.000000  253680.000000\n",
       "mean       28.382364       2.511392       3.184772       4.242081\n",
       "std         6.608694       1.068477       7.412847       8.717951\n",
       "min        12.000000       1.000000       0.000000       0.000000\n",
       "25%        24.000000       2.000000       0.000000       0.000000\n",
       "50%        27.000000       2.000000       0.000000       0.000000\n",
       "75%        31.000000       3.000000       2.000000       3.000000\n",
       "max        98.000000       5.000000      30.000000      30.000000"
      ]
     },
     "execution_count": 8,
     "metadata": {},
     "output_type": "execute_result"
    }
   ],
   "source": [
    "# TODO 4: Summary statistics\n",
    "df.describe()"
   ]
  },
  {
   "cell_type": "markdown",
   "metadata": {},
   "source": [
    "## 🎯 Target Distribution\n",
    "\n",
    "### TODO 5: Visualize target variable\n",
    "\n",
    "**Expected:** `Diabetes_binary` column with values 0 (No) and 1 (Yes)\n",
    "\n",
    "**Questions:**\n",
    "- Is the dataset balanced? (50/50 split)\n",
    "- Or is it imbalanced? (e.g., 10% positive)\n",
    "\n",
    "**Create:** Bar chart showing counts for each class"
   ]
  },
  {
   "cell_type": "code",
   "execution_count": 11,
   "metadata": {},
   "outputs": [
    {
     "name": "stdout",
     "output_type": "stream",
     "text": [
      "Diabetes\n",
      "No Diabetes    213703\n",
      "Diabetes        35346\n",
      "Prediabetes      4631\n",
      "Name: count, dtype: int64\n"
     ]
    }
   ],
   "source": [
    "print(df[\"Diabetes\"].value_counts())"
   ]
  },
  {
   "cell_type": "code",
   "execution_count": 13,
   "metadata": {},
   "outputs": [
    {
     "data": {
      "image/png": "[encoded data removed]",
      "text/plain": [
       "<Figure size 640x480 with 1 Axes>"
      ]
     },
     "metadata": {},
     "output_type": "display_data"
    }
   ],
   "source": [
    "# TODO 5: Visualize target\n",
    "# Hint: Use df['Diabetes_binary'].value_counts().plot(kind='bar')\n",
    "# Label axes and add title\n",
    "diabetes_map = {\n",
    "    \"No Diabetes\": 0,\n",
    "    \"Prediabetes\": 1,\n",
    "    \"Diabetes\": 2\n",
    "}\n",
    "df['Diabetes_trinary'] = df[\"Diabetes\"].map(diabetes_map)\n",
    "\n",
    "df['Diabetes_trinary'].value_counts().plot(kind='bar')\n",
    "plt.xlabel('Diabetes Status')\n",
    "plt.ylabel('Count')\n",
    "plt.title('Distribution of Diabetes Cases')\n",
    "plt.show()"
   ]
  },
  {
   "cell_type": "markdown",
   "metadata": {},
   "source": [
    "## 🔍 Missing Values\n",
    "\n",
    "### TODO 6: Check for missing data\n",
    "\n",
    "**Use:** `df.isnull().sum()` — counts missing values per column\n",
    "\n",
    "**Questions:**\n",
    "- Which columns have missing values?\n",
    "- How much is missing? (< 1% vs. > 50%)"
   ]
  },
  {
   "cell_type": "code",
   "execution_count": 14,
   "metadata": {},
   "outputs": [
    {
     "name": "stdout",
     "output_type": "stream",
     "text": [
      "Series([], dtype: int64)\n"
     ]
    }
   ],
   "source": [
    "# TODO 6: Missing values\n",
    "missing = df.isnull().sum()\n",
    "print(missing[missing > 0])"
   ]
  },
  {
   "cell_type": "markdown",
   "metadata": {},
   "source": [
    "## 🤔 Reflection\n",
    "\n",
    "Answer these questions:\n",
    "\n",
    "1. **Schema issues:** Any columns with wrong dtypes? (e.g., integers stored as strings)\n",
    "2. **Missing data:** Which columns have missing values? Should we drop or impute?\n",
    "3. **Class balance:** Is diabetes class balanced or imbalanced? How will this affect training?\n",
    "4. **Initial concerns:** What stands out as problematic?"
   ]
  },
  {
   "cell_type": "markdown",
   "metadata": {},
   "source": [
    "---\n",
    "**Your reflection:**\n",
    "\n",
    "1. **Schema issues:** Several columns have `object` dtype that should be converted to numeric or category types. Specifically:\n",
    "   - Columns like `HighBP`, `HighChol`, `Smoker`, `Stroke`, etc. are object type (Yes/No) and need encoding\n",
    "   - `GenHlth` is float64 but appears to be categorical based on values (1-5)\n",
    "   - `Age`, `Education`, and `Income` are object types and need conversion\n",
    "   - These will need to be handled in the cleaning/preprocessing step\n",
    "\n",
    "2. **Missing data:** No missing values detected in this dataset (`df.isnull().sum()` returns empty). All columns have non-null values, which is good and simplifies our preprocessing pipeline.\n",
    "\n",
    "3. **Class balance:** The dataset is **severely imbalanced**:\n",
    "   - No Diabetes (class 0): ~213,703 cases (84%)\n",
    "   - Diabetes (class 2): ~35,346 cases (14%)\n",
    "   - Prediabetes (class 1): ~4,631 cases (2%)\n",
    "   \n",
    "   This significant imbalance will require:\n",
    "   - Stratified sampling during train/test/validation splits\n",
    "   - Consideration of class weights during training\n",
    "   - Possibly oversampling (SMOTE) or undersampling techniques\n",
    "   - Focus on metrics beyond accuracy (F1, precision, recall, ROC-AUC)\n",
    "   - Note: The **trinary** nature adds complexity vs. typical binary classification\n",
    "\n",
    "4. **Initial concerns:**\n",
    "   - **Trinary target variable:** The dataset has three classes instead of the expected binary classification. Created `Diabetes_trinary` column (0=No Diabetes, 1=Prediabetes, 2=Diabetes) to encode this properly.\n",
    "   - **Class imbalance:** Extreme imbalance (84% vs 14% vs 2%) will challenge model training and evaluation\n",
    "   - **Object dtypes:** Many features need encoding/transformation before they can be used by ML models\n",
    "   - **Feature scaling:** Numeric features like BMI, GenHlth, MentHlth, PhysHlth have different ranges and may need normalization"
   ]
  },
  {
   "cell_type": "markdown",
   "metadata": {},
   "source": [
    "## 📌 Summary\n",
    "\n",
    "✅ **Data loaded:** CSV → DataFrame  \n",
    "✅ **Schema inspected:** Dtypes documented  \n",
    "✅ **Target visualized:** Distribution chart created  \n",
    "✅ **Missing identified:** Columns with NaN documented  \n",
    "✅ **Ready for next step:** Clean the data\n",
    "\n",
    "**Next notebook:** `03_cleaning.ipynb`"
   ]
  }
 ],
 "metadata": {
  "kernelspec": {
   "display_name": "Codecademy ML",
   "language": "python",
   "name": "codeacademy"
  },
  "language_info": {
   "codemirror_mode": {
    "name": "ipython",
    "version": 3
   },
   "file_extension": ".py",
   "mimetype": "text/x-python",
   "name": "python",
   "nbconvert_exporter": "python",
   "pygments_lexer": "ipython3",
   "version": "3.11.7"
  }
 },
 "nbformat": 4,
 "nbformat_minor": 4
}
