{
 "cells": [
  {
   "cell_type": "markdown",
   "metadata": {},
   "source": [
    "# Exploratory Data Analysis (EDA)",
    "",
    "## \ud83c\udfaf Concept Primer",
    "",
    "EDA reveals patterns, relationships, and potential issues in your data. **Visualization is your best friend** for understanding what's happening.",
    "",
    "### EDA Goals",
    "- **Univariate:** Individual feature distributions",
    "- **Bivariate:** Relationships between features and target",
    "- **Correlations:** Which features move together?",
    "- **Class stratification:** How do distributions differ by diabetes status?",
    "",
    "**Expected outputs:** 4-6 plots saved to `/images/diabetes_*.png`"
   ]
  },
  {
   "cell_type": "markdown",
   "metadata": {},
   "source": [
    "## \ud83d\udccb Objectives",
    "",
    "By the end of this notebook, you will:",
    "1. Create histograms/KDEs for continuous features",
    "2. Create bar charts for categorical features",
    "3. Build a correlation heatmap",
    "4. Visualize key features stratified by diabetes outcome",
    "5. Save plots to `/images/`"
   ]
  },
  {
   "cell_type": "markdown",
   "metadata": {},
   "source": [
    "## \u2705 Acceptance Criteria",
    "",
    "You'll know you're done when:",
    "- [ ] At least 4 informative plots created",
    "- [ ] Correlation heatmap shows numeric feature relationships",
    "- [ ] Key features visualized stratified by diabetes status",
    "- [ ] Plots saved to `/images/diabetes_*.png`",
    "- [ ] Initial feature importance intuitions documented"
   ]
  },
  {
   "cell_type": "markdown",
   "metadata": {},
   "source": [
    "## \ud83d\udd27 Setup"
   ]
  },
  {
   "cell_type": "code",
   "metadata": {},
   "source": [
    "# TODO 1: Import libraries",
    "# import pandas as pd",
    "# import numpy as np",
    "# import matplotlib.pyplot as plt",
    "# import seaborn as sns",
    "# %matplotlib inline"
   ]
  },
  {
   "cell_type": "markdown",
   "metadata": {},
   "source": [
    "## \ud83d\udcca Univariate Distributions",
    "",
    "### TODO 2: Plot continuous features",
    "",
    "**Features to visualize:** BMI, MentHlth, PhysHlth, Age",
    "",
    "**Use:** Histograms (`plt.hist`) or KDE plots (`sns.distplot`)",
    "",
    "**Questions:**",
    "- Are distributions normal or skewed?",
    "- Any obvious outliers?"
   ]
  },
  {
   "cell_type": "code",
   "metadata": {},
   "source": [
    "# TODO 2: Continuous distributions",
    "# fig, axes = plt.subplots(2, 2, figsize=(12, 10))",
    "# axes[0, 0].hist(df['bmi'], bins=30)",
    "# axes[0, 0].set_title('BMI Distribution')",
    "# # Add more plots...",
    "# plt.tight_layout()",
    "# plt.savefig('../../images/diabetes_univariate.png', dpi=150)",
    "# plt.show()"
   ]
  },
  {
   "cell_type": "markdown",
   "metadata": {},
   "source": [
    "## \ud83d\udd17 Correlation Heatmap",
    "",
    "### TODO 3: Create correlation matrix",
    "",
    "**Use:** `df.corr()` then `sns.heatmap()`",
    "",
    "**Questions:**",
    "- Which features correlate strongly with target?",
    "- Any multicollinearity? (high feature-to-feature correlation)"
   ]
  },
  {
   "cell_type": "code",
   "metadata": {},
   "source": [
    "# TODO 3: Correlation heatmap",
    "# plt.figure(figsize=(14, 10))",
    "# sns.heatmap(df.corr(), annot=True, fmt='.2f', cmap='coolwarm', center=0)",
    "# plt.title('Feature Correlation Matrix')",
    "# plt.tight_layout()",
    "# plt.savefig('../../images/diabetes_correlation.png', dpi=150)",
    "# plt.show()"
   ]
  },
  {
   "cell_type": "markdown",
   "metadata": {},
   "source": [
    "## \ud83c\udfaf Stratified by Target",
    "",
    "### TODO 4: Compare distributions by diabetes status",
    "",
    "**Visualize:** How do distributions differ between diabetes=Yes vs No?",
    "",
    "**Features:** BMI, HighBP, PhysActivity",
    "",
    "**Use:** `sns.boxplot` or `sns.violinplot` with `hue='diabetes_binary'`"
   ]
  },
  {
   "cell_type": "code",
   "metadata": {},
   "source": [
    "# TODO 4: Stratified distributions",
    "# plt.figure(figsize=(10, 6))",
    "# sns.boxplot(data=df, x='diabetes_binary', y='bmi')",
    "# plt.title('BMI by Diabetes Status')",
    "# plt.savefig('../../images/diabetes_bmi_by_target.png', dpi=150)",
    "# plt.show()"
   ]
  },
  {
   "cell_type": "markdown",
   "metadata": {},
   "source": [
    "## \ud83e\udd14 Reflection",
    "",
    "1. **Predictive features:** Which features look most associated with diabetes?",
    "2. **Leakage risk:** Any features that might leak information about the target?",
    "3. **Surprises:** What patterns surprised you?",
    "4. **Next steps:** Which features will you focus on in modeling?"
   ]
  },
  {
   "cell_type": "markdown",
   "metadata": {},
   "source": [
    "**Your reflection:**",
    "",
    "*Write your answers here*"
   ]
  },
  {
   "cell_type": "markdown",
   "metadata": {},
   "source": [
    "## \ud83d\udccc Summary",
    "",
    "\u2705 **Univariate plots:** Continuous features visualized  ",
    "\u2705 **Correlation heatmap:** Feature relationships mapped  ",
    "\u2705 **Stratified analysis:** Distributions by diabetes status  ",
    "\u2705 **Plots saved:** Exported to `/images/`  ",
    "\u2705 **Ready for next step:** Preprocess and split data",
    "",
    "**Next notebook:** `05_preprocessing_splits_balance.ipynb`"
   ]
  }
 ],
 "metadata": {
  "kernelspec": {
   "display_name": "Python 3",
   "language": "python",
   "name": "python3"
  },
  "language_info": {
   "name": "python",
   "version": "3.10.0"
  }
 },
 "nbformat": 4,
 "nbformat_minor": 4
}