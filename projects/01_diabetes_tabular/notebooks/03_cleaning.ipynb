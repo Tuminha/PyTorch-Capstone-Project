{
 "cells": [
  {
   "cell_type": "markdown",
   "metadata": {},
   "source": [
    "# Clean Data",
    "",
    "## \ud83c\udfaf Concept Primer",
    "",
    "Cleaning transforms raw data into ML-ready data. **Decisions here affect everything downstream.**",
    "",
    "### Cleaning Steps",
    "1. **Rename columns** \u2014 snake_case for readability",
    "2. **Fix dtypes** \u2014 strings \u2192 numbers, floats \u2192 ints where appropriate",
    "3. **Handle missing** \u2014 drop rows/columns OR impute (mean/median/mode)",
    "4. **Remove outliers** \u2014 boxplots or z-scores to find extreme values",
    "5. **Deduplicate** \u2014 remove exact duplicate rows",
    "",
    "**Document every decision** \u2014 future you will thank you!"
   ]
  },
  {
   "cell_type": "markdown",
   "metadata": {},
   "source": [
    "## \ud83d\udccb Objectives",
    "",
    "By the end of this notebook, you will:",
    "1. Rename columns to concise snake_case",
    "2. Cast dtypes correctly (int, float, bool)",
    "3. Handle missing values (drop or impute)",
    "4. Scan for outliers using visualizations",
    "5. Document cleaning decisions"
   ]
  },
  {
   "cell_type": "markdown",
   "metadata": {},
   "source": [
    "## \u2705 Acceptance Criteria",
    "",
    "You'll know you're done when:",
    "- [ ] All columns renamed to snake_case",
    "- [ ] Dtypes are correct (no object columns that should be numeric)",
    "- [ ] Missing values handled (dropped or imputed)",
    "- [ ] Cleaning decisions logged in a markdown cell",
    "- [ ] Clean DataFrame saved in memory"
   ]
  },
  {
   "cell_type": "markdown",
   "metadata": {},
   "source": [
    "## \ud83d\udd27 Setup"
   ]
  },
  {
   "cell_type": "code",
   "metadata": {},
   "source": [
    "# TODO 1: Import libraries",
    "# import pandas as pd",
    "# import numpy as np",
    "# import matplotlib.pyplot as plt",
    "# import seaborn as sns",
    "# %matplotlib inline"
   ]
  },
  {
   "cell_type": "markdown",
   "metadata": {},
   "source": [
    "## \ud83d\udcdd Rename Columns",
    "",
    "### TODO 2: Convert column names to snake_case",
    "",
    "**Expected:** Original columns like `Diabetes_binary` \u2192 `diabetes_binary`",
    "",
    "**Hints:**",
    "- Use `df.columns = df.columns.str.lower().str.replace(' ', '_')`",
    "- Or manually rename specific columns with `df.rename()`"
   ]
  },
  {
   "cell_type": "code",
   "metadata": {},
   "source": [
    "# TODO 2: Rename columns",
    "# df.columns = df.columns.str.lower().str.replace(' ', '_')",
    "# df.head()"
   ]
  },
  {
   "cell_type": "markdown",
   "metadata": {},
   "source": [
    "## \ud83d\udd22 Fix Data Types",
    "",
    "### TODO 3: Cast columns to correct dtypes",
    "",
    "**Check previous notebook:** Which columns have wrong dtypes?",
    "",
    "**Common fixes:**",
    "- Binary columns (0/1) \u2192 `int` or `bool`",
    "- Numeric columns stored as strings \u2192 `float` or `int`",
    "- Ordinal columns (1-5 scale) \u2192 `int`",
    "",
    "**Use:** `df['column'] = df['column'].astype(dtype)`"
   ]
  },
  {
   "cell_type": "code",
   "metadata": {},
   "source": [
    "# TODO 3: Fix dtypes",
    "# Example: df['column'] = df['column'].astype(int)",
    "# Use .info() to verify changes"
   ]
  },
  {
   "cell_type": "markdown",
   "metadata": {},
   "source": [
    "## \ud83d\udeab Handle Missing Values",
    "",
    "### TODO 4: Decide on missing value strategy",
    "",
    "**Options:**",
    "1. **Drop rows:** If missing < 1% of total",
    "2. **Drop columns:** If > 50% missing",
    "3. **Impute:** Fill with mean (numeric) or mode (categorical)",
    "",
    "**Decision:** Document your choice for each column in the reflection.",
    "",
    "**Use:** `df.dropna()` or `df.fillna()`"
   ]
  },
  {
   "cell_type": "code",
   "metadata": {},
   "source": [
    "# TODO 4: Handle missing values",
    "# Example: df = df.dropna(subset=['column1'])",
    "# Or: df['column2'] = df['column2'].fillna(df['column2'].mean())",
    "# Verify: df.isnull().sum()"
   ]
  },
  {
   "cell_type": "markdown",
   "metadata": {},
   "source": [
    "## \ud83d\udcca Outlier Detection",
    "",
    "### TODO 5: Scan for outliers in numeric columns",
    "",
    "**Methods:**",
    "- **Boxplots:** Visual inspection",
    "- **Z-scores:** Count values beyond \u00b13 standard deviations",
    "",
    "**Action:** Decide whether to clip/cap outliers or leave them",
    "",
    "**Create:** Boxplots for key numeric features (BMI, MentHlth, PhysHlth)"
   ]
  },
  {
   "cell_type": "code",
   "metadata": {},
   "source": [
    "# TODO 5: Outlier detection",
    "# plt.figure(figsize=(10, 6))",
    "# sns.boxplot(data=df[['bmi', 'menthlth', 'physhlth']])",
    "# plt.title('Outlier Detection')",
    "# plt.show()"
   ]
  },
  {
   "cell_type": "markdown",
   "metadata": {},
   "source": [
    "## \ud83d\udccb Cleaning Decisions Log",
    "",
    "### TODO 6: Document your cleaning choices",
    "",
    "Create a markdown table summarizing decisions:",
    "",
    "| Column | Issue | Decision | Rationale |",
    "|--------|-------|----------|-----------|",
    "| | | | |"
   ]
  },
  {
   "cell_type": "markdown",
   "metadata": {},
   "source": [
    "**Example entry:**",
    "",
    "| Column | Issue | Decision | Rationale |",
    "|--------|-------|----------|-----------|",
    "| bmi | No missing values | > 0 | Valid range |",
    "| age | Stored as float | Convert to int | Age should be integer |"
   ]
  },
  {
   "cell_type": "markdown",
   "metadata": {},
   "source": [
    "## \ud83e\udd14 Reflection",
    "",
    "Answer these questions:",
    "",
    "1. **Dtype changes:** Did you convert any strings to numbers? Why?",
    "2. **Missing strategy:** Drop or impute? Could your choice bias results?",
    "3. **Outliers:** Did you find any extreme values? How did you handle them?",
    "4. **Bias check:** Could any cleaning steps introduce bias?"
   ]
  },
  {
   "cell_type": "markdown",
   "metadata": {},
   "source": [
    "---",
    "**Your reflection:**",
    "",
    "*Write your answers here*"
   ]
  },
  {
   "cell_type": "markdown",
   "metadata": {},
   "source": [
    "## \ud83d\udccc Summary",
    "",
    "\u2705 **Columns renamed:** snake_case convention  ",
    "\u2705 **Dtypes fixed:** Correct numeric types  ",
    "\u2705 **Missing handled:** Dropped or imputed  ",
    "\u2705 **Outliers scanned:** Decisions documented  ",
    "\u2705 **Ready for next step:** Explore relationships",
    "",
    "**Next notebook:** `04_eda_visualization.ipynb`"
   ]
  }
 ],
 "metadata": {
  "kernelspec": {
   "display_name": "Python 3",
   "language": "python",
   "name": "python3"
  },
  "language_info": {
   "name": "python",
   "version": "3.10.0"
  }
 },
 "nbformat": 4,
 "nbformat_minor": 4
}