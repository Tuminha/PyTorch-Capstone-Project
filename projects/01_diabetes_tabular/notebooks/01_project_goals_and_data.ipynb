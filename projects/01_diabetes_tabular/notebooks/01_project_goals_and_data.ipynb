{
 "cells": [
  {
   "cell_type": "markdown",
   "metadata": {},
   "source": [
    "# Project 01: Diabetes Prediction — Goals & Data\\n",
    "\\n",
    "## 🎯 Concept Primer\\n",
    "\\n",
    "In this capstone project, we're building a **portfolio-ready** diabetes prediction model using tabular health data. This project demonstrates the **full ML pipeline** from data loading through model evaluation.\\n",
    "\\n",
    "### Tabular ML Flow\\n",
    "1. **Define the problem** — What are we predicting? What metrics matter?\\n",
    "2. **Load & inspect** — Understand data structure, dtypes, missingness\\n",
    "3. **Clean** — Handle missing values, outliers, rename columns\\n",
    "4. **Explore** — Visualize distributions, correlations, class balance\\n",
    "5. **Preprocess** — Encode categoricals, scale continuous, split train/val/test\\n",
    "6. **Baseline** — Simple models to sanity-check data quality\\n",
    "7. **Build PyTorch model** — Neural network for tabular data\\n",
    "8. **Evaluate** — Honest out-of-sample metrics\\n",
    "\\n",
    "### Why Start with Goals?\\n",
    "Defining success upfront prevents scope creep and helps you know when you're done. Healthcare ML needs clear **operating context** — are we screening (high recall) or diagnosing (high precision)?"
   ]
  },
  {
   "cell_type": "markdown",
   "metadata": {},
   "source": [
    "## 📋 Objectives\\n",
    "\\n",
    "By the end of this notebook, you will:\\n",
    "1. State the **concrete problem** you're solving\\n",
    "2. Define **success metrics** (ROC-AUC, F1, etc.)\\n",
    "3. Document the **dataset source** and key fields\\n",
    "4. List the **variables** available for prediction\\n",
    "5. Consider **ethical implications** of the task"
   ]
  },
  {
   "cell_type": "markdown",
   "metadata": {},
   "source": [
    "## ✅ Acceptance Criteria\\n",
    "\\n",
    "You'll know you're done when:\\n",
    "- [ ] A clear **problem statement** is written in a markdown cell\\n",
    "- [ ] **Metrics** are defined (primary: ROC-AUC, secondary: F1 for positive class)\\n",
    "- [ ] **Dataset variables** are listed in a markdown table\\n",
    "- [ ] **Success thresholds** are set (e.g., ROC-AUC ≥ 0.75)"
   ]
  },
  {
   "cell_type": "markdown",
   "metadata": {},
   "source": [
    "## 🔧 Setup"
   ]
  },
  {
   "cell_type": "code",
   "execution_count": null,
   "metadata": {},
   "outputs": [],
   "source": [
    "# TODO 1: Import required libraries\\n",
    "# Hint: You'll need pandas, numpy, and matplotlib for basic exploration\\n",
    "# import pandas as pd\\n",
    "# import numpy as np\\n",
    "# import matplotlib.pyplot as plt\\n",
    "# %matplotlib inline"
   ]
  },
  {
   "cell_type": "markdown",
   "metadata": {},
   "source": [
    "## 📝 Problem Statement\\n",
    "\\n",
    "### TODO 2: Write your problem statement\\n",
    "\\n",
    "In 2-3 sentences, describe:\\n",
    "- What are you predicting? (e.g., \\\"diabetes presence\\\")\\n",
    "- Why does it matter? (e.g., \\\"early screening\\\")  \\n",
    "- What is the expected outcome? (e.g., \\\"binary classification model\\\")"
   ]
  },
  {
   "cell_type": "markdown",
   "metadata": {},
   "source": [
    "**Your problem statement here:**\\n",
    "\\n",
    "*Replace this with your own statement*"
   ]
  },
  {
   "cell_type": "markdown",
   "metadata": {},
   "source": [
    "## 🎯 Success Metrics\\n",
    "\\n",
    "### TODO 3: Define your metrics\\n",
    "\\n",
    "For binary classification, choose **one primary metric** and **1-2 secondary metrics**.\\n",
    "\\n",
    "**Common choices:**\\n",
    "- **ROC-AUC:** Overall model performance (area under ROC curve)\\n",
    "- **F1-score:** Balance of precision and recall\\n",
    "- **Precision:** Of predicted positives, how many are correct?\\n",
    "- **Recall:** Of actual positives, how many did we catch?\\n",
    "\\n",
    "For **screening** (e.g., identifying at-risk patients), prioritize **Recall** (avoid false negatives).  \\n",
    "For **diagnostics** (e.g., confirming diagnosis), prioritize **Precision** (avoid false positives)."
   ]
  },
  {
   "cell_type": "markdown",
   "metadata": {},
   "source": [
    "**Your chosen metrics:**\\n",
    "\\n",
    "| Metric | Target | Why? |\\n",
    "|--------|--------|------|\\n",
    "| Primary | | |\\n",
    "| Secondary | | |"
   ]
  },
  {
   "cell_type": "markdown",
   "metadata": {},
   "source": [
    "## 📊 Dataset Information\\n",
    "\\n",
    "### TODO 4: Document dataset source and fields\\n",
    "\\n",
    "**Dataset:** BRFSS 2015 (Behavioral Risk Factor Surveillance System)  \\n",
    "**Location:** `../../data/diabetes_BRFSS2015.csv`  \\n",
    "**Size:** ~250,000+ records  \\n",
    "**Target:** Diabetes `Diabetes_binary` (Yes/No)"
   ]
  },
  {
   "cell_type": "markdown",
   "metadata": {},
   "source": [
    "### TODO 5: List key variables\\n",
    "\\n",
    "Create a table of the main features you expect to find. You'll verify this in the next notebook.\\n",
    "\\n",
    "| Variable | Type | Description |\\n",
    "|----------|------|-------------|\\n",
    "| Diabetes_binary | binary | Target: diabetes diagnosis |\\n",
    "| HighBP | binary | High blood pressure |\\n",
    "| HighChol | binary | High cholesterol |\\n",
    "| CholCheck | binary | Cholesterol check in past 5 years |\\n",
    "| BMI | numeric | Body Mass Index |\\n",
    "| Smoker | binary | Smoking status |\\n",
    "| Stroke | binary | History of stroke |\\n",
    "| HeartDiseaseorAttack | binary | Heart disease history |\\n",
    "| PhysActivity | binary | Physical activity in past month |\\n",
    "| Fruits | binary | Consumes fruit daily |\\n",
    "| Veggies | binary | Consumes vegetables daily |\\n",
    "| HvyAlcoholConsump | binary | Heavy alcohol consumption |\\n",
    "| AnyHealthcare | binary | Has health insurance |\\n",
    "| NoDocbcCost | binary | Couldn't see doctor due to cost |\\n",
    "| GenHlth | ordinal | General health (1-5 scale) |\\n",
    "| MentHlth | numeric | Days of poor mental health (past 30 days) |\\n",
    "| PhysHlth | numeric | Days of poor physical health (past 30 days) |\\n",
    "| DiffWalk | binary | Difficulty walking |\\n",
    "| Sex | binary | Sex (Male/Female) |\\n",
    "| Age | ordinal | Age bands |\\n",
    "| Education | ordinal | Education level |\\n",
    "| Income | ordinal | Income brackets |"
   ]
  },
  {
   "cell_type": "markdown",
   "metadata": {},
   "source": [
    "## 🤔 Reflection\\n",
    "\\n",
    "Answer these questions:\\n",
    "\\n",
    "1. **Why these metrics?** — Did you choose ROC-AUC or F1 as primary? Why?\\n",
    "2. **Screening vs. Diagnostics** — Is this for early screening (high recall) or final diagnosis (high precision)?\\n",
    "3. **Data limitations** — What concerns do you have about self-reported survey data?\\n",
    "4. **Success criteria** — What ROC-AUC would make you feel this model is \\\"good enough\\\"?"
   ]
  },
  {
   "cell_type": "markdown",
   "metadata": {},
   "source": [
    "---\\n",
    "\\n",
    "**Your reflection:**\\n",
    "\\n",
    "*Write your answers here*"
   ]
  },
  {
   "cell_type": "markdown",
   "metadata": {},
   "source": [
    "## 📌 Summary\\n",
    "\\n",
    "✅ **Problem defined:** Binary classification of diabetes from health factors  \\n",
    "✅ **Metrics chosen:** ROC-AUC (primary), F1 (secondary)  \\n",
    "✅ **Dataset documented:** BRFSS 2015, ~250K records  \\n",
    "✅ **Ready for next step:** Load and inspect the data\\n",
    "\\n",
    "**Next notebook:** `02_load_and_inspect.ipynb`"
   ]
  }
 ],
 "metadata": {
  "kernelspec": {
   "display_name": "Python 3",
   "language": "python",
   "name": "python3"
  },
  "language_info": {
   "name": "python",
   "version": "3.10.0"
  }
 },
 "nbformat": 4,
 "nbformat_minor": 4
}
