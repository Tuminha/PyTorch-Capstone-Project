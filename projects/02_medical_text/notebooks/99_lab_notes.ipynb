{
 "cells": [
  {
   "cell_type": "markdown",
   "metadata": {},
   "source": [
    "# Lab Notes - Medical Text",
    "",
    "## Template for Reflection",
    "",
    "Use this notebook to log your progress, insights, and challenges throughout the project.",
    "",
    "### Entry Template",
    "- **Date:** YYYY-MM-DD",
    "- **Goal:** What were you trying to accomplish?",
    "- **What clicked:** What made sense today?",
    "- **What confused me:** What was unclear?",
    "- **One change for next time:** What would you do differently?",
    "- **Next experiment:** What will you try next?"
   ]
  },
  {
   "cell_type": "markdown",
   "metadata": {},
   "source": [
    "## Entry 1"
   ]
  },
  {
   "cell_type": "markdown",
   "metadata": {},
   "source": [
    "**Date:** ",
    "",
    "**Goal:** ",
    "",
    "**What clicked:** ",
    "",
    "**What confused me:** ",
    "",
    "**One change for next time:** ",
    "",
    "**Next experiment:** "
   ]
  }
 ],
 "metadata": {
  "kernelspec": {
   "display_name": "Python 3",
   "language": "python",
   "name": "python3"
  },
  "language_info": {
   "name": "python",
   "version": "3.10.0"
  }
 },
 "nbformat": 4,
 "nbformat_minor": 4
}