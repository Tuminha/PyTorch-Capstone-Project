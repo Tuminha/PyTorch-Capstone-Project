{
 "cells": [
  {
   "cell_type": "markdown",
   "metadata": {},
   "source": [
    "# Vocabulary, Encoding & Padding",
    "",
    "## \ud83c\udfaf Concept Primer",
    "Build vocabulary, encode words as integers, pad/truncate sequences to fixed length.",
    "",
    "**Expected:** Encoded sequences [N, max_len], vocab size"
   ]
  },
  {
   "cell_type": "markdown",
   "metadata": {},
   "source": [
    "## \ud83d\udccb Objectives",
    "1. Build vocabulary from training data",
    "2. Encode tokens as integers",
    "3. Pad/truncate to fixed length",
    "4. Create DataLoader"
   ]
  },
  {
   "cell_type": "markdown",
   "metadata": {},
   "source": [
    "## \ud83d\udd27 Setup"
   ]
  },
  {
   "cell_type": "code",
   "metadata": {},
   "source": [
    "# TODO 1: Import libraries",
    "# import torch",
    "# from torch.utils.data import Dataset, DataLoader",
    "# from collections import Counter"
   ]
  },
  {
   "cell_type": "markdown",
   "metadata": {},
   "source": [
    "## \ud83d\udcda Build Vocabulary",
    "",
    "### TODO 2: Create word-to-index mapping",
    "",
    "**Expected:** vocab_size, word2idx dict"
   ]
  },
  {
   "cell_type": "code",
   "metadata": {},
   "source": [
    "# TODO 2: Build vocab",
    "# all_tokens = [token for tokens in df['tokens'] for token in tokens]",
    "# vocab = Counter(all_tokens)",
    "# word2idx = {word: idx+1 for idx, word in enumerate(vocab.keys())}",
    "# word2idx['<PAD>'] = 0",
    "# vocab_size = len(word2idx)"
   ]
  },
  {
   "cell_type": "markdown",
   "metadata": {},
   "source": [
    "## \ud83d\udd22 Encode Sequences",
    "",
    "### TODO 3: Convert tokens to integers",
    "",
    "**Expected:** Encoded lists of integers"
   ]
  },
  {
   "cell_type": "code",
   "metadata": {},
   "source": [
    "# TODO 3: Encode",
    "# def encode(tokens):",
    "#     return [word2idx.get(token, 0) for token in tokens]",
    "# ",
    "# df['encoded'] = df['tokens'].apply(encode)"
   ]
  },
  {
   "cell_type": "markdown",
   "metadata": {},
   "source": [
    "## \ud83d\udccf Pad Sequences",
    "",
    "### TODO 4: Pad/truncate to fixed length",
    "",
    "**Expected:** All sequences same length (e.g., 200)"
   ]
  },
  {
   "cell_type": "code",
   "metadata": {},
   "source": [
    "# TODO 4: Pad",
    "# max_len = 200",
    "# def pad_sequence(seq):",
    "#     if len(seq) > max_len:",
    "#         return seq[:max_len]",
    "#     return seq + [0] * (max_len - len(seq))",
    "# ",
    "# df['padded'] = df['encoded'].apply(pad_sequence)"
   ]
  },
  {
   "cell_type": "markdown",
   "metadata": {},
   "source": [
    "## \ud83d\udd04 Create DataLoader",
    "",
    "### TODO 5: Setup PyTorch DataLoader",
    "",
    "**Expected:** DataLoader with batch_size=32"
   ]
  },
  {
   "cell_type": "code",
   "metadata": {},
   "source": [
    "# TODO 5: DataLoader",
    "# class TextDataset(Dataset):",
    "#     def __init__(self, texts, labels):",
    "#         self.texts = texts",
    "#         self.labels = labels",
    "#     ",
    "#     def __len__(self):",
    "#         return len(self.texts)",
    "#     ",
    "#     def __getitem__(self, idx):",
    "#         return torch.LongTensor(self.texts[idx]), self.labels[idx]",
    "# ",
    "# train_dataset = TextDataset(df['padded'].tolist(), df['label'].tolist())",
    "# train_loader = DataLoader(train_dataset, batch_size=32, shuffle=True)"
   ]
  },
  {
   "cell_type": "markdown",
   "metadata": {},
   "source": [
    "## \ud83e\udd14 Reflection",
    "1. Vocab size? Any OOV issues?",
    "2. Max length choice?"
   ]
  },
  {
   "cell_type": "markdown",
   "metadata": {},
   "source": [
    "**Your reflection:**",
    "",
    "*Write here*"
   ]
  },
  {
   "cell_type": "markdown",
   "metadata": {},
   "source": [
    "## \ud83d\udccc Summary",
    "\u2705 Vocab built  ",
    "\u2705 Sequences encoded  ",
    "\u2705 Padding applied  ",
    "\u2705 DataLoader ready",
    "",
    "**Next:** `04_baseline_classifier.ipynb`"
   ]
  }
 ],
 "metadata": {
  "kernelspec": {
   "display_name": "Python 3",
   "language": "python",
   "name": "python3"
  },
  "language_info": {
   "name": "python",
   "version": "3.10.0"
  }
 },
 "nbformat": 4,
 "nbformat_minor": 4
}