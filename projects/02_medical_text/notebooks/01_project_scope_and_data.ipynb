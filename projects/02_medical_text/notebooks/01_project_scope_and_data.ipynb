{
 "cells": [
  {
   "cell_type": "markdown",
   "metadata": {},
   "source": [
    "# Project 02: Medical Text Classification \u2014 Scope & Data",
    "",
    "## \ud83c\udfaf Concept Primer",
    "Text classification maps medical Q&A text to categories. Uses embeddings + transformers.",
    "",
    "**Labels:** Multi-class classification  ",
    "**Success Metric:** Macro-F1 (equal weight per class)  ",
    "**Expected:** Tokenization \u2192 Vocab \u2192 Encoding \u2192 Padding \u2192 Model",
    "",
    "## \ud83d\udccb Objectives",
    "1. Define label space and categories",
    "2. Load medical text dataset",
    "3. Set success metrics (Macro-F1 primary)",
    "4. Document ethical considerations",
    "",
    "## \u2705 Acceptance Criteria",
    "- [ ] Label categories defined",
    "- [ ] Dataset loaded and inspected",
    "- [ ] Text length statistics computed",
    "- [ ] Macro-F1 chosen as primary metric"
   ]
  },
  {
   "cell_type": "markdown",
   "metadata": {},
   "source": [
    "## \ud83d\udd27 Setup"
   ]
  },
  {
   "cell_type": "code",
   "metadata": {},
   "source": [
    "# TODO 1: Import libraries",
    "# import pandas as pd",
    "# import numpy as np",
    "# import matplotlib.pyplot as plt"
   ]
  },
  {
   "cell_type": "markdown",
   "metadata": {},
   "source": [
    "## \ud83d\udcca Load Dataset",
    "",
    "### TODO 2: Load medical text data",
    "",
    "**Location:** `../../data/medquad.csv`  ",
    "**Expected:** Columns for text and labels"
   ]
  },
  {
   "cell_type": "code",
   "metadata": {},
   "source": [
    "# TODO 2: Load data",
    "# df = pd.read_csv('../../data/medquad.csv')",
    "# print(df.head())",
    "# print(f\"Shape: {df.shape}\")"
   ]
  },
  {
   "cell_type": "markdown",
   "metadata": {},
   "source": [
    "## \ud83c\udfaf Define Label Space",
    "",
    "### TODO 3: Document categories",
    "",
    "**Expected:** List of medical categories (e.g., Cardiology, Dermatology, etc.)"
   ]
  },
  {
   "cell_type": "markdown",
   "metadata": {},
   "source": [
    "**Categories:**",
    "",
    "*List your categories here*"
   ]
  },
  {
   "cell_type": "markdown",
   "metadata": {},
   "source": [
    "## \ud83e\udd14 Reflection",
    "1. How many categories? Is this balanced?",
    "2. Why Macro-F1 over weighted-F1?",
    "3. Ethical concerns with medical text classification?"
   ]
  },
  {
   "cell_type": "markdown",
   "metadata": {},
   "source": [
    "**Your reflection:**",
    "",
    "*Write here*"
   ]
  },
  {
   "cell_type": "markdown",
   "metadata": {},
   "source": [
    "## \ud83d\udccc Summary",
    "\u2705 Dataset loaded  ",
    "\u2705 Labels defined  ",
    "\u2705 Metrics chosen",
    "",
    "**Next:** `02_load_clean_tokenize.ipynb`"
   ]
  }
 ],
 "metadata": {
  "kernelspec": {
   "display_name": "Python 3",
   "language": "python",
   "name": "python3"
  },
  "language_info": {
   "name": "python",
   "version": "3.10.0"
  }
 },
 "nbformat": 4,
 "nbformat_minor": 4
}