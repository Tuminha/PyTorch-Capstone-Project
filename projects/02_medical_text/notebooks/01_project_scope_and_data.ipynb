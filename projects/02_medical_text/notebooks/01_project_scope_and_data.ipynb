{
 "cells": [
  {
   "cell_type": "markdown",
   "metadata": {},
   "source": [
    "# Project 02: Medical Text Classification — Scope & Data\n",
    "\n",
    "## 🎯 Concept Primer\n",
    "Text classification maps medical Q&A text to categories. Uses embeddings + transformers.\n",
    "\n",
    "**Labels:** Multi-class classification  \n",
    "**Success Metric:** Macro-F1 (equal weight per class)  \n",
    "**Expected:** Tokenization → Vocab → Encoding → Padding → Model\n",
    "\n",
    "## 📋 Objectives\n",
    "1. Define label space and categories\n",
    "2. Load medical text dataset\n",
    "3. Set success metrics (Macro-F1 primary)\n",
    "4. Document ethical considerations\n",
    "\n",
    "## ✅ Acceptance Criteria\n",
    "- [ ] Label categories defined\n",
    "- [ ] Dataset loaded and inspected\n",
    "- [ ] Text length statistics computed\n",
    "- [ ] Macro-F1 chosen as primary metric"
   ]
  },
  {
   "cell_type": "markdown",
   "metadata": {},
   "source": [
    "## 🔧 Setup"
   ]
  },
  {
   "cell_type": "code",
   "execution_count": 1,
   "metadata": {},
   "outputs": [],
   "source": [
    "# TODO 1: Import libraries\n",
    "import pandas as pd\n",
    "import numpy as np\n",
    "import matplotlib.pyplot as plt"
   ]
  },
  {
   "cell_type": "markdown",
   "metadata": {},
   "source": [
    "## 📊 Load Dataset\n",
    "\n",
    "### TODO 2: Load medical text data\n",
    "\n",
    "**Location:** `../../data/medquad.csv`  \n",
    "**Expected:** Columns for text and labels"
   ]
  },
  {
   "cell_type": "code",
   "execution_count": 4,
   "metadata": {},
   "outputs": [
    {
     "name": "stdout",
     "output_type": "stream",
     "text": [
      "                                 question  \\\n",
      "0                What is (are) Glaucoma ?   \n",
      "1                  What causes Glaucoma ?   \n",
      "2     What are the symptoms of Glaucoma ?   \n",
      "3  What are the treatments for Glaucoma ?   \n",
      "4                What is (are) Glaucoma ?   \n",
      "\n",
      "                                              answer           source  \\\n",
      "0  Glaucoma is a group of diseases that can damag...  NIHSeniorHealth   \n",
      "1  Nearly 2.7 million people have glaucoma, a lea...  NIHSeniorHealth   \n",
      "2  Symptoms of Glaucoma  Glaucoma can develop in ...  NIHSeniorHealth   \n",
      "3  Although open-angle glaucoma cannot be cured, ...  NIHSeniorHealth   \n",
      "4  Glaucoma is a group of diseases that can damag...  NIHSeniorHealth   \n",
      "\n",
      "  focus_area  \n",
      "0   Glaucoma  \n",
      "1   Glaucoma  \n",
      "2   Glaucoma  \n",
      "3   Glaucoma  \n",
      "4   Glaucoma  \n",
      "Shape: (16412, 4)\n"
     ]
    }
   ],
   "source": [
    "# TODO 2: Load data\n",
    "df = pd.read_csv('../../../datasets/medquad.csv')\n",
    "print(df.head())\n",
    "print(f\"Shape: {df.shape}\")"
   ]
  },
  {
   "cell_type": "markdown",
   "metadata": {},
   "source": [
    "## 🎯 Define Label Space\n",
    "\n",
    "### TODO 3: Document categories\n",
    "\n",
    "**Expected:** List of medical categories (e.g., Cardiology, Dermatology, etc.)"
   ]
  },
  {
   "cell_type": "code",
   "execution_count": 6,
   "metadata": {},
   "outputs": [
    {
     "name": "stderr",
     "output_type": "stream",
     "text": [
      "Device set to use mps:0\n"
     ]
    },
    {
     "name": "stdout",
     "output_type": "stream",
     "text": [
      "Oncology\n"
     ]
    }
   ],
   "source": [
    "from transformers import pipeline\n",
    "\n",
    "CATEGORIES = [\n",
    "  \"Oncology\", \"Cardiology\", \"Neurology\", \"Ophthalmology\",\n",
    "  \"Endocrinology\", \"Pulmonology\", \"Gastroenterology\",\n",
    "  \"Nephrology\", \"Dermatology\", \"Psychiatry\", \"Infectious Disease\"\n",
    "]\n",
    "\n",
    "clf = pipeline(\"zero-shot-classification\", model=\"facebook/bart-large-mnli\")\n",
    "\n",
    "res = clf(\n",
    "    \"Breast cancer\",                    # focus_area text\n",
    "    candidate_labels=CATEGORIES,\n",
    "    multi_label=False\n",
    ")\n",
    "print(res[\"labels\"][0])"
   ]
  },
  {
   "cell_type": "markdown",
   "metadata": {},
   "source": [
    "**Categories:**\n",
    "\n",
    "*List your categories here*"
   ]
  },
  {
   "cell_type": "markdown",
   "metadata": {},
   "source": [
    "## 🤔 Reflection\n",
    "1. How many categories? Is this balanced?\n",
    "2. Why Macro-F1 over weighted-F1?\n",
    "3. Ethical concerns with medical text classification?"
   ]
  },
  {
   "cell_type": "markdown",
   "metadata": {},
   "source": [
    "**Your reflection:**\n",
    "\n",
    "*Write here*"
   ]
  },
  {
   "cell_type": "markdown",
   "metadata": {},
   "source": [
    "## 📌 Summary\n",
    "✅ Dataset loaded  \n",
    "✅ Labels defined  \n",
    "✅ Metrics chosen\n",
    "\n",
    "**Next:** `02_load_clean_tokenize.ipynb`"
   ]
  }
 ],
 "metadata": {
  "kernelspec": {
   "display_name": "Codecademy ML",
   "language": "python",
   "name": "codeacademy"
  },
  "language_info": {
   "codemirror_mode": {
    "name": "ipython",
    "version": 3
   },
   "file_extension": ".py",
   "mimetype": "text/x-python",
   "name": "python",
   "nbconvert_exporter": "python",
   "pygments_lexer": "ipython3",
   "version": "3.11.7"
  }
 },
 "nbformat": 4,
 "nbformat_minor": 4
}
